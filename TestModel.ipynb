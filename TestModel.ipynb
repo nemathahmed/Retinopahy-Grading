{
 "cells": [
  {
   "cell_type": "code",
   "execution_count": 1,
   "metadata": {},
   "outputs": [
    {
     "name": "stderr",
     "output_type": "stream",
     "text": [
      "Using TensorFlow backend.\n"
     ]
    }
   ],
   "source": [
    "from keras.preprocessing.image import ImageDataGenerator, array_to_img, img_to_array, load_img\n",
    "import tensorflow as tf\n",
    "from numpy import zeros\n",
    "import cv2 as cv\n",
    "import numpy as np\n",
    "import sys\n",
    "def testme(traindir):\n",
    "    \n",
    "    img21 = load_img(traindir)\n",
    "    arr21 = img_to_array(img21)\n",
    "    arr21 = cv.resize(arr21, (128,128))\n",
    "    arr21 = np.array(arr21, dtype=\"float\") / 255.0\n",
    "\n",
    "    sys.stdout.flush()\n",
    "    Tval = np.zeros([arr21.shape[0],1, 128, 3])\n",
    " # 0 to traindf Size -1\n",
    "#Tval = arr\n",
    "    print(Tval.shape) # (250,128,128,3)\n",
    "\n",
    "    m21=arr21.reshape(1,128,128,3)\n",
    "    for m in range(arr21.shape[0]): # 0 to traindf Size -1\n",
    "        Tval[m] = arr21[m]\n",
    "    print(Tval.shape)\n",
    "    return m21"
   ]
  },
  {
   "cell_type": "code",
   "execution_count": 6,
   "metadata": {},
   "outputs": [],
   "source": [
    "model = tf.keras.models.load_model(\"dd.model\")\n"
   ]
  },
  {
   "cell_type": "code",
   "execution_count": 7,
   "metadata": {},
   "outputs": [
    {
     "name": "stdout",
     "output_type": "stream",
     "text": [
      "(128, 1, 128, 3)\n",
      "(128, 1, 128, 3)\n",
      "[[0.59455967 0.09565638 0.21632813 0.05281773 0.0406381 ]]\n"
     ]
    }
   ],
   "source": [
    "prediction=model.predict([testme(\"test.png\")])\n",
    "print(prediction)"
   ]
  },
  {
   "cell_type": "code",
   "execution_count": 9,
   "metadata": {},
   "outputs": [
    {
     "ename": "SyntaxError",
     "evalue": "invalid syntax (<ipython-input-9-c42027244895>, line 2)",
     "output_type": "error",
     "traceback": [
      "\u001b[0;36m  File \u001b[0;32m\"<ipython-input-9-c42027244895>\"\u001b[0;36m, line \u001b[0;32m2\u001b[0m\n\u001b[0;31m    WAVENUMBERS-900NM\u001b[0m\n\u001b[0m                    ^\u001b[0m\n\u001b[0;31mSyntaxError\u001b[0m\u001b[0;31m:\u001b[0m invalid syntax\n"
     ]
    }
   ],
   "source": [
    "CIRCUIT\n",
    "WAVENUMBERS-900NM\n",
    "(clinic)\n",
    "spectrum graphs-(SIC)\n",
    "fitting Graphs\n",
    "#(noise to signal ratio)\n",
    "\n"
   ]
  },
  {
   "cell_type": "code",
   "execution_count": null,
   "metadata": {},
   "outputs": [],
   "source": [
    "\n",
    "\n"
   ]
  }
 ],
 "metadata": {
  "kernelspec": {
   "display_name": "Python 3",
   "language": "python",
   "name": "python3"
  },
  "language_info": {
   "codemirror_mode": {
    "name": "ipython",
    "version": 3
   },
   "file_extension": ".py",
   "mimetype": "text/x-python",
   "name": "python",
   "nbconvert_exporter": "python",
   "pygments_lexer": "ipython3",
   "version": "3.6.7"
  }
 },
 "nbformat": 4,
 "nbformat_minor": 2
}
